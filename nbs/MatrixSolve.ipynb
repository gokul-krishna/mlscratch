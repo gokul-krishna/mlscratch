{
 "cells": [
  {
   "cell_type": "code",
   "execution_count": 3,
   "metadata": {
    "ExecuteTime": {
     "end_time": "2019-03-23T19:47:36.186573Z",
     "start_time": "2019-03-23T19:47:36.183336Z"
    }
   },
   "outputs": [],
   "source": [
    "from mlscratch.imports import  *\n",
    "from mlscratch.linear_algebra import MatrixSolve"
   ]
  },
  {
   "cell_type": "code",
   "execution_count": 4,
   "metadata": {
    "ExecuteTime": {
     "end_time": "2019-03-23T19:47:37.027660Z",
     "start_time": "2019-03-23T19:47:37.021974Z"
    }
   },
   "outputs": [
    {
     "name": "stdout",
     "output_type": "stream",
     "text": [
      "[[-0.60565445  1.2210773  -1.64714572  1.09568985]\n",
      " [ 0.07577056  0.6646772  -0.91320763  0.19471493]\n",
      " [-0.8000844   0.58272057  0.13969997  1.02299635]\n",
      " [ 1.30941355 -1.44459543 -0.8121858   0.80501764]]\n"
     ]
    }
   ],
   "source": [
    "A = np.random.randn(16).reshape((4, 4))\n",
    "print(A)"
   ]
  },
  {
   "cell_type": "code",
   "execution_count": 5,
   "metadata": {
    "ExecuteTime": {
     "end_time": "2019-03-23T19:47:59.826922Z",
     "start_time": "2019-03-23T19:47:59.821742Z"
    }
   },
   "outputs": [
    {
     "name": "stdout",
     "output_type": "stream",
     "text": [
      "[[-1.61901955e-01]\n",
      " [-7.50105092e-01]\n",
      " [ 2.76261814e+00]\n",
      " [ 2.21037965e-03]]\n"
     ]
    }
   ],
   "source": [
    "b = np.random.randn(4).reshape((4, 1))\n",
    "print(b)"
   ]
  },
  {
   "cell_type": "code",
   "execution_count": 6,
   "metadata": {
    "ExecuteTime": {
     "end_time": "2019-03-23T19:48:01.452412Z",
     "start_time": "2019-03-23T19:48:01.438077Z"
    }
   },
   "outputs": [
    {
     "name": "stdout",
     "output_type": "stream",
     "text": [
      "[[-0.60565445  1.2210773  -1.64714572  1.09568985 -0.16190195]\n",
      " [ 0.          0.81744039 -1.11927423  0.33179149 -0.77035988]\n",
      " [ 0.         -1.03035252  2.31561991 -0.42443684  2.9764946 ]\n",
      " [ 0.          1.19535078 -4.37328394  3.17387854 -0.34781861]]\n",
      "[[-0.60565445  1.2210773  -1.64714572  1.09568985 -0.16190195]\n",
      " [ 0.          0.81744039 -1.11927423  0.33179149 -0.77035988]\n",
      " [ 0.          0.          0.90481732 -0.00622628  2.00548527]\n",
      " [ 0.          0.         -2.73655871  2.68869671  0.77868589]]\n",
      "[[-6.05654447e-01  1.22107730e+00 -1.64714572e+00  1.09568985e+00\n",
      "  -1.61901955e-01]\n",
      " [ 0.00000000e+00  8.17440393e-01 -1.11927423e+00  3.31791494e-01\n",
      "  -7.70359878e-01]\n",
      " [ 0.00000000e+00  0.00000000e+00  9.04817319e-01 -6.22628354e-03\n",
      "   2.00548527e+00]\n",
      " [ 0.00000000e+00  0.00000000e+00  0.00000000e+00  2.66986574e+00\n",
      "   6.84414030e+00]]\n",
      "[[-6.05654447e-01  1.22107730e+00 -1.64714572e+00  1.09568985e+00\n",
      "  -1.61901955e-01]\n",
      " [ 0.00000000e+00  8.17440393e-01 -1.11927423e+00  3.31791494e-01\n",
      "  -7.70359878e-01]\n",
      " [ 0.00000000e+00  0.00000000e+00  9.04817319e-01 -6.22628354e-03\n",
      "   2.00548527e+00]\n",
      " [ 0.00000000e+00  0.00000000e+00  0.00000000e+00  2.66986574e+00\n",
      "   6.84414030e+00]]\n"
     ]
    },
    {
     "data": {
      "text/plain": [
       "array([0.99863113, 1.07611893, 2.23409319, 2.56347733])"
      ]
     },
     "execution_count": 6,
     "metadata": {},
     "output_type": "execute_result"
    }
   ],
   "source": [
    "MatrixSolve.solve(A, b)"
   ]
  },
  {
   "cell_type": "code",
   "execution_count": 7,
   "metadata": {
    "ExecuteTime": {
     "end_time": "2019-03-23T19:48:13.775125Z",
     "start_time": "2019-03-23T19:48:13.767864Z"
    }
   },
   "outputs": [
    {
     "data": {
      "text/plain": [
       "array([0.99863113, 1.07611893, 2.23409319, 2.56347733])"
      ]
     },
     "execution_count": 7,
     "metadata": {},
     "output_type": "execute_result"
    }
   ],
   "source": [
    "np.linalg.solve(A, b).ravel()"
   ]
  },
  {
   "cell_type": "code",
   "execution_count": null,
   "metadata": {},
   "outputs": [],
   "source": []
  }
 ],
 "metadata": {
  "kernelspec": {
   "display_name": "Python 3",
   "language": "python",
   "name": "python3"
  },
  "language_info": {
   "codemirror_mode": {
    "name": "ipython",
    "version": 3
   },
   "file_extension": ".py",
   "mimetype": "text/x-python",
   "name": "python",
   "nbconvert_exporter": "python",
   "pygments_lexer": "ipython3",
   "version": "3.6.8"
  },
  "toc": {
   "base_numbering": 1,
   "nav_menu": {},
   "number_sections": true,
   "sideBar": true,
   "skip_h1_title": false,
   "title_cell": "Table of Contents",
   "title_sidebar": "Contents",
   "toc_cell": false,
   "toc_position": {},
   "toc_section_display": true,
   "toc_window_display": false
  }
 },
 "nbformat": 4,
 "nbformat_minor": 2
}
