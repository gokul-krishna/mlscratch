{
 "cells": [
  {
   "cell_type": "code",
   "execution_count": 3,
   "metadata": {
    "ExecuteTime": {
     "end_time": "2019-03-23T20:02:44.938539Z",
     "start_time": "2019-03-23T20:02:44.935595Z"
    }
   },
   "outputs": [],
   "source": [
    "from mlscratch.imports import *\n",
    "from mlscratch.linear_algebra import PageRank"
   ]
  },
  {
   "cell_type": "code",
   "execution_count": 4,
   "metadata": {
    "ExecuteTime": {
     "end_time": "2019-03-23T20:02:45.388927Z",
     "start_time": "2019-03-23T20:02:45.244121Z"
    }
   },
   "outputs": [],
   "source": [
    "data = np.loadtxt(\"../data/blog.csv\", delimiter=',', dtype=np.int)"
   ]
  },
  {
   "cell_type": "code",
   "execution_count": 5,
   "metadata": {
    "ExecuteTime": {
     "end_time": "2019-03-23T20:03:18.084728Z",
     "start_time": "2019-03-23T20:03:17.930218Z"
    }
   },
   "outputs": [
    {
     "name": "stdout",
     "output_type": "stream",
     "text": [
      "Total iterations:  102\n"
     ]
    }
   ],
   "source": [
    "result = PageRank.page_rank(data, top_n=10)"
   ]
  },
  {
   "cell_type": "code",
   "execution_count": 6,
   "metadata": {
    "ExecuteTime": {
     "end_time": "2019-03-23T20:03:25.698145Z",
     "start_time": "2019-03-23T20:03:25.409615Z"
    }
   },
   "outputs": [
    {
     "name": "stdout",
     "output_type": "stream",
     "text": [
      "Rank:  1 , Blog No:  798 , Total primary links:  145\n",
      "Rank:  2 , Blog No:  990 , Total primary links:  81\n",
      "Rank:  3 , Blog No:  1067 , Total primary links:  42\n",
      "Rank:  4 , Blog No:  514 , Total primary links:  103\n",
      "Rank:  5 , Blog No:  1086 , Total primary links:  52\n",
      "Rank:  6 , Blog No:  233 , Total primary links:  56\n",
      "Rank:  7 , Blog No:  1122 , Total primary links:  36\n",
      "Rank:  8 , Blog No:  979 , Total primary links:  75\n",
      "Rank:  9 , Blog No:  996 , Total primary links:  82\n",
      "Rank:  10 , Blog No:  154 , Total primary links:  81\n"
     ]
    }
   ],
   "source": [
    "for c, i in enumerate(reversed(result)):\n",
    "    print(\"Rank: \", c + 1, \", Blog No: \", i,\n",
    "          \", Total primary links: \", sum(data[:,1] == i))"
   ]
  },
  {
   "cell_type": "code",
   "execution_count": null,
   "metadata": {},
   "outputs": [],
   "source": []
  }
 ],
 "metadata": {
  "kernelspec": {
   "display_name": "Python 3",
   "language": "python",
   "name": "python3"
  },
  "language_info": {
   "codemirror_mode": {
    "name": "ipython",
    "version": 3
   },
   "file_extension": ".py",
   "mimetype": "text/x-python",
   "name": "python",
   "nbconvert_exporter": "python",
   "pygments_lexer": "ipython3",
   "version": "3.6.8"
  },
  "toc": {
   "base_numbering": 1,
   "nav_menu": {},
   "number_sections": true,
   "sideBar": true,
   "skip_h1_title": false,
   "title_cell": "Table of Contents",
   "title_sidebar": "Contents",
   "toc_cell": false,
   "toc_position": {},
   "toc_section_display": true,
   "toc_window_display": false
  }
 },
 "nbformat": 4,
 "nbformat_minor": 2
}
